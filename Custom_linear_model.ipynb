{
 "cells": [
  {
   "cell_type": "code",
   "execution_count": 18,
   "metadata": {
    "collapsed": true
   },
   "outputs": [],
   "source": [
    "import tensorflow as tf\n",
    "import numpy as np\n"
   ]
  },
  {
   "cell_type": "code",
   "execution_count": 37,
   "metadata": {},
   "outputs": [
    {
     "name": "stdout",
     "output_type": "stream",
     "text": [
      "INFO:tensorflow:Using default config.\n",
      "WARNING:tensorflow:Using temporary folder as model directory: /tmp/tmpbFpkgk\n",
      "INFO:tensorflow:Using config: {'_save_checkpoints_secs': 600, '_session_config': None, '_keep_checkpoint_max': 5, '_tf_random_seed': 1, '_keep_checkpoint_every_n_hours': 10000, '_log_step_count_steps': 100, '_save_checkpoints_steps': None, '_model_dir': '/tmp/tmpbFpkgk', '_save_summary_steps': 100}\n"
     ]
    }
   ],
   "source": [
    "def model_fn(features, labels, mode):\n",
    "    W = tf.get_variable(\"W\", [1], dtype=tf.float64)\n",
    "    b = tf.get_variable(\"b\", [1], dtype=tf.float64)\n",
    "    y = W * features[\"x\"] + b\n",
    "    loss = tf.reduce_sum(tf.square(y - labels))\n",
    "    global_step = tf.train.get_global_step()\n",
    "    optimizer = tf.train.GradientDescentOptimizer(0.001)\n",
    "    train = tf.group(optimizer.minimize(loss),tf.assign_add(global_step, 1))\n",
    "    return tf.estimator.EstimatorSpec(mode = mode, predictions = y, loss = loss, train_op = train)\n",
    "estimator = tf.estimator.Estimator(model_fn = model_fn)"
   ]
  },
  {
   "cell_type": "code",
   "execution_count": 39,
   "metadata": {},
   "outputs": [],
   "source": [
    "x_train = np.array([1., 2., 3., 4.])\n",
    "y_train = np.array([0., -1., -2., -3.])\n",
    "x_eval = np.array([2., 5., 8., 1.])\n",
    "y_eval = np.array([-1.01, -4.1, -7, 0.])\n",
    "input_fn = tf.estimator.inputs.numpy_input_fn(\n",
    "    {\"x\": x_train}, y_train, batch_size=4, num_epochs=None, shuffle=True)\n",
    "train_input_fn = tf.estimator.inputs.numpy_input_fn(\n",
    "    {\"x\": x_train}, y_train, batch_size=4, num_epochs=1000, shuffle=False)\n",
    "eval_input_fn = tf.estimator.inputs.numpy_input_fn(\n",
    "    {\"x\": x_eval}, y_eval, batch_size=4, num_epochs=1000, shuffle=False)\n",
    "\n"
   ]
  },
  {
   "cell_type": "code",
   "execution_count": 40,
   "metadata": {},
   "outputs": [
    {
     "name": "stdout",
     "output_type": "stream",
     "text": [
      "INFO:tensorflow:Create CheckpointSaverHook.\n",
      "INFO:tensorflow:Saving checkpoints for 1 into /tmp/tmpbFpkgk/model.ckpt.\n",
      "INFO:tensorflow:loss = 3.15136617367, step = 1\n",
      "INFO:tensorflow:global_step/sec: 2577.45\n",
      "INFO:tensorflow:loss = 0.0860149090413, step = 101 (0.039 sec)\n",
      "INFO:tensorflow:global_step/sec: 2833.11\n",
      "INFO:tensorflow:loss = 0.0853968000587, step = 201 (0.035 sec)\n",
      "INFO:tensorflow:global_step/sec: 2710.02\n",
      "INFO:tensorflow:loss = 0.195544938783, step = 301 (0.037 sec)\n",
      "INFO:tensorflow:global_step/sec: 2822.79\n",
      "INFO:tensorflow:loss = 0.286205621156, step = 401 (0.035 sec)\n",
      "INFO:tensorflow:global_step/sec: 2780\n",
      "INFO:tensorflow:loss = 0.106685535985, step = 501 (0.036 sec)\n",
      "INFO:tensorflow:global_step/sec: 2768.79\n",
      "INFO:tensorflow:loss = 0.092936279986, step = 601 (0.036 sec)\n",
      "INFO:tensorflow:global_step/sec: 2686.14\n",
      "INFO:tensorflow:loss = 0.0309699206996, step = 701 (0.037 sec)\n",
      "INFO:tensorflow:global_step/sec: 2681.54\n",
      "INFO:tensorflow:loss = 0.0489511085656, step = 801 (0.037 sec)\n",
      "INFO:tensorflow:global_step/sec: 2781.72\n",
      "INFO:tensorflow:loss = 0.03882463963, step = 901 (0.036 sec)\n",
      "INFO:tensorflow:Saving checkpoints for 1000 into /tmp/tmpbFpkgk/model.ckpt.\n",
      "INFO:tensorflow:Loss for final step: 0.0152442011294.\n"
     ]
    },
    {
     "data": {
      "text/plain": [
       "<tensorflow.python.estimator.estimator.Estimator at 0x7f3567df5250>"
      ]
     },
     "execution_count": 40,
     "metadata": {},
     "output_type": "execute_result"
    }
   ],
   "source": [
    "estimator.train(input_fn=input_fn, steps=1000)\n"
   ]
  },
  {
   "cell_type": "code",
   "execution_count": 41,
   "metadata": {},
   "outputs": [
    {
     "name": "stdout",
     "output_type": "stream",
     "text": [
      "INFO:tensorflow:Starting evaluation at 2017-10-14-13:20:49\n",
      "INFO:tensorflow:Restoring parameters from /tmp/tmpbFpkgk/model.ckpt-1000\n",
      "INFO:tensorflow:Finished evaluation at 2017-10-14-13:20:49\n",
      "INFO:tensorflow:Saving dict for global step 1000: global_step = 1000, loss = 0.0302825\n",
      "INFO:tensorflow:Starting evaluation at 2017-10-14-13:20:49\n",
      "INFO:tensorflow:Restoring parameters from /tmp/tmpbFpkgk/model.ckpt-1000\n",
      "INFO:tensorflow:Finished evaluation at 2017-10-14-13:20:49\n",
      "INFO:tensorflow:Saving dict for global step 1000: global_step = 1000, loss = 0.223713\n"
     ]
    },
    {
     "data": {
      "text/plain": [
       "{'global_step': 1000, 'loss': 0.22371326}"
      ]
     },
     "execution_count": 41,
     "metadata": {},
     "output_type": "execute_result"
    }
   ],
   "source": [
    "estimator.evaluate(input_fn = train_input_fn)\n",
    "estimator.evaluate(input_fn = eval_input_fn)"
   ]
  },
  {
   "cell_type": "code",
   "execution_count": 42,
   "metadata": {},
   "outputs": [
    {
     "name": "stdout",
     "output_type": "stream",
     "text": [
      "INFO:tensorflow:Starting evaluation at 2017-10-14-13:22:31\n",
      "INFO:tensorflow:Restoring parameters from /tmp/tmpbFpkgk/model.ckpt-1000\n",
      "INFO:tensorflow:Finished evaluation at 2017-10-14-13:22:31\n",
      "INFO:tensorflow:Saving dict for global step 1000: global_step = 1000, loss = 0.0302825\n"
     ]
    },
    {
     "data": {
      "text/plain": [
       "{'global_step': 1000, 'loss': 0.030282473}"
      ]
     },
     "execution_count": 42,
     "metadata": {},
     "output_type": "execute_result"
    }
   ],
   "source": [
    "estimator.evaluate(input_fn = train_input_fn)"
   ]
  },
  {
   "cell_type": "code",
   "execution_count": 43,
   "metadata": {},
   "outputs": [
    {
     "name": "stdout",
     "output_type": "stream",
     "text": [
      "INFO:tensorflow:Starting evaluation at 2017-10-14-13:22:38\n",
      "INFO:tensorflow:Restoring parameters from /tmp/tmpbFpkgk/model.ckpt-1000\n",
      "INFO:tensorflow:Finished evaluation at 2017-10-14-13:22:39\n",
      "INFO:tensorflow:Saving dict for global step 1000: global_step = 1000, loss = 0.223713\n"
     ]
    },
    {
     "data": {
      "text/plain": [
       "{'global_step': 1000, 'loss': 0.22371326}"
      ]
     },
     "execution_count": 43,
     "metadata": {},
     "output_type": "execute_result"
    }
   ],
   "source": [
    "estimator.evaluate(input_fn = eval_input_fn)"
   ]
  },
  {
   "cell_type": "code",
   "execution_count": null,
   "metadata": {
    "collapsed": true
   },
   "outputs": [],
   "source": []
  }
 ],
 "metadata": {
  "kernelspec": {
   "display_name": "Python 2",
   "language": "python",
   "name": "python2"
  },
  "language_info": {
   "codemirror_mode": {
    "name": "ipython",
    "version": 2
   },
   "file_extension": ".py",
   "mimetype": "text/x-python",
   "name": "python",
   "nbconvert_exporter": "python",
   "pygments_lexer": "ipython2",
   "version": "2.7.13"
  }
 },
 "nbformat": 4,
 "nbformat_minor": 2
}
