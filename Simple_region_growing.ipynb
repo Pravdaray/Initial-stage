{
 "cells": [
  {
   "cell_type": "code",
   "execution_count": 16,
   "metadata": {
    "collapsed": true
   },
   "outputs": [],
   "source": [
    "import os\n",
    "import sys\n",
    "import numpy as np\n",
    "from matplotlib import *\n",
    "from scipy.ndimage import label\n",
    "from medpy.io import *\n",
    "from medpy.filter import *\n",
    "from subprocess import *"
   ]
  },
  {
   "cell_type": "code",
   "execution_count": 19,
   "metadata": {},
   "outputs": [],
   "source": [
    "image_data, image_header = load('./Documents/LIVER-SLIVER_Challenge/test/liver-orig001.mhd')\n",
    "#print(check_output([image_data])).decode(\"utf8\")"
   ]
  },
  {
   "cell_type": "code",
   "execution_count": 18,
   "metadata": {
    "collapsed": true
   },
   "outputs": [],
   "source": [
    "def region_grow(img, seed, minthr, maxthr, structure = None):\n",
    "    img[seed] = minthr\n",
    "    thrimg = (img < maxthr) & (img >= minthr)\n",
    "    lmap, _ = label(thrimg, structure = structure)\n",
    "    lids = numpy.unique(lmap[seed])\n",
    "    region = numpy.zeros(img.shape, numpy.bool)\n",
    "    for lid in lids:\n",
    "        region |= lmap == lid\n",
    "    return region    "
   ]
  },
  {
   "cell_type": "code",
   "execution_count": null,
   "metadata": {},
   "outputs": [],
   "source": []
  },
  {
   "cell_type": "code",
   "execution_count": null,
   "metadata": {
    "collapsed": true
   },
   "outputs": [],
   "source": []
  },
  {
   "cell_type": "code",
   "execution_count": null,
   "metadata": {
    "collapsed": true
   },
   "outputs": [],
   "source": []
  }
 ],
 "metadata": {
  "kernelspec": {
   "display_name": "Python 2",
   "language": "python",
   "name": "python2"
  },
  "language_info": {
   "codemirror_mode": {
    "name": "ipython",
    "version": 2
   },
   "file_extension": ".py",
   "mimetype": "text/x-python",
   "name": "python",
   "nbconvert_exporter": "python",
   "pygments_lexer": "ipython2",
   "version": "2.7.13"
  }
 },
 "nbformat": 4,
 "nbformat_minor": 2
}
