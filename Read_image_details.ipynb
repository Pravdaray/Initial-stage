{
 "cells": [
  {
   "cell_type": "code",
   "execution_count": 65,
   "metadata": {},
   "outputs": [],
   "source": [
    "import numpy as np\n",
    "import matplotlib.pyplot as plt\n",
    "import SimpleITK as sitk\n",
    "import dicom\n",
    "from PIL import Image"
   ]
  },
  {
   "cell_type": "code",
   "execution_count": 57,
   "metadata": {},
   "outputs": [],
   "source": [
    "image_data, image_header = load('./Documents/LIVER-SLIVER_Challenge/test/liver-orig002.mhd')"
   ]
  },
  {
   "cell_type": "code",
   "execution_count": 58,
   "metadata": {},
   "outputs": [
    {
     "data": {
      "text/plain": [
       "(512, 512, 358)"
      ]
     },
     "execution_count": 58,
     "metadata": {},
     "output_type": "execute_result"
    }
   ],
   "source": [
    "image_data.shape"
   ]
  },
  {
   "cell_type": "code",
   "execution_count": 59,
   "metadata": {},
   "outputs": [
    {
     "data": {
      "text/plain": [
       "array([[[-3024, -3024, -3024, ..., -3024, -3024, -3024],\n",
       "        [-3024, -3024, -3024, ..., -3024, -3024, -3024],\n",
       "        [-3024, -3024, -3024, ..., -3024, -3024, -3024],\n",
       "        ..., \n",
       "        [-3024, -3024, -3024, ..., -3024, -3024, -3024],\n",
       "        [-3024, -3024, -3024, ..., -3024, -3024, -3024],\n",
       "        [-3024, -3024, -3024, ..., -3024, -3024, -3024]],\n",
       "\n",
       "       [[-3024, -3024, -3024, ..., -3024, -3024, -3024],\n",
       "        [-3024, -3024, -3024, ..., -3024, -3024, -3024],\n",
       "        [-3024, -3024, -3024, ..., -3024, -3024, -3024],\n",
       "        ..., \n",
       "        [-3024, -3024, -3024, ..., -3024, -3024, -3024],\n",
       "        [-3024, -3024, -3024, ..., -3024, -3024, -3024],\n",
       "        [-3024, -3024, -3024, ..., -3024, -3024, -3024]],\n",
       "\n",
       "       [[-3024, -3024, -3024, ..., -3024, -3024, -3024],\n",
       "        [-3024, -3024, -3024, ..., -3024, -3024, -3024],\n",
       "        [-3024, -3024, -3024, ..., -3024, -3024, -3024],\n",
       "        ..., \n",
       "        [-3024, -3024, -3024, ..., -3024, -3024, -3024],\n",
       "        [-3024, -3024, -3024, ..., -3024, -3024, -3024],\n",
       "        [-3024, -3024, -3024, ..., -3024, -3024, -3024]],\n",
       "\n",
       "       ..., \n",
       "       [[-3024, -3024, -3024, ..., -3024, -3024, -3024],\n",
       "        [-3024, -3024, -3024, ..., -3024, -3024, -3024],\n",
       "        [-3024, -3024, -3024, ..., -3024, -3024, -3024],\n",
       "        ..., \n",
       "        [-3024, -3024, -3024, ..., -3024, -3024, -3024],\n",
       "        [-3024, -3024, -3024, ..., -3024, -3024, -3024],\n",
       "        [-3024, -3024, -3024, ..., -3024, -3024, -3024]],\n",
       "\n",
       "       [[-3024, -3024, -3024, ..., -3024, -3024, -3024],\n",
       "        [-3024, -3024, -3024, ..., -3024, -3024, -3024],\n",
       "        [-3024, -3024, -3024, ..., -3024, -3024, -3024],\n",
       "        ..., \n",
       "        [-3024, -3024, -3024, ..., -3024, -3024, -3024],\n",
       "        [-3024, -3024, -3024, ..., -3024, -3024, -3024],\n",
       "        [-3024, -3024, -3024, ..., -3024, -3024, -3024]],\n",
       "\n",
       "       [[-3024, -3024, -3024, ..., -3024, -3024, -3024],\n",
       "        [-3024, -3024, -3024, ..., -3024, -3024, -3024],\n",
       "        [-3024, -3024, -3024, ..., -3024, -3024, -3024],\n",
       "        ..., \n",
       "        [-3024, -3024, -3024, ..., -3024, -3024, -3024],\n",
       "        [-3024, -3024, -3024, ..., -3024, -3024, -3024],\n",
       "        [-3024, -3024, -3024, ..., -3024, -3024, -3024]]], dtype=int32)"
      ]
     },
     "execution_count": 59,
     "metadata": {},
     "output_type": "execute_result"
    }
   ],
   "source": [
    "# dicom series reader\n",
    "def read_dicom_series(dir_name):\n",
    "    reader=sitk.ImageSeriesReader()\n",
    "    dicom_series=reader.GetGDCMSeriesFileNames(dir_name)\n",
    "    reader.SetFileNames(dicom_series)\n",
    "    images=reader.Execute()\n",
    "    image_array = sitk.GetArrayFromImage(images)\n",
    "    return image_array\n",
    "\n",
    "read_dicom_series('./Desktop/data')"
   ]
  },
  {
   "cell_type": "code",
   "execution_count": 60,
   "metadata": {
    "scrolled": true
   },
   "outputs": [],
   "source": [
    "def read_dicom_file(filename):\n",
    "    reader = dicom.read_file(filename)\n",
    "    image = reader.pixel_array\n",
    "    image = reader.Rescalslope * image + reader.RescaleIntercept\n",
    "    return image\n"
   ]
  },
  {
   "cell_type": "code",
   "execution_count": 61,
   "metadata": {},
   "outputs": [
    {
     "data": {
      "text/plain": [
       "array([[[-1024, -1024, -1024, ..., -1024, -1024, -1024],\n",
       "        [-1024, -1024, -1024, ..., -1024, -1024, -1024],\n",
       "        [-1024, -1024, -1024, ..., -1024, -1024, -1024],\n",
       "        ..., \n",
       "        [-1024, -1024, -1024, ..., -1024, -1024, -1024],\n",
       "        [-1024, -1024, -1024, ..., -1024, -1024, -1024],\n",
       "        [-1024, -1024, -1024, ..., -1024, -1024, -1024]],\n",
       "\n",
       "       [[-1024, -1024, -1024, ..., -1024, -1024, -1024],\n",
       "        [-1024, -1024, -1024, ..., -1024, -1024, -1024],\n",
       "        [-1024, -1024, -1024, ..., -1024, -1024, -1024],\n",
       "        ..., \n",
       "        [-1024, -1024, -1024, ..., -1024, -1024, -1024],\n",
       "        [-1024, -1024, -1024, ..., -1024, -1024, -1024],\n",
       "        [-1024, -1024, -1024, ..., -1024, -1024, -1024]],\n",
       "\n",
       "       [[-1024, -1024, -1024, ..., -1024, -1024, -1024],\n",
       "        [-1024, -1024, -1024, ..., -1024, -1024, -1024],\n",
       "        [-1024, -1024, -1024, ..., -1024, -1024, -1024],\n",
       "        ..., \n",
       "        [-1024, -1024, -1024, ..., -1024, -1024, -1024],\n",
       "        [-1024, -1024, -1024, ..., -1024, -1024, -1024],\n",
       "        [-1024, -1024, -1024, ..., -1024, -1024, -1024]],\n",
       "\n",
       "       ..., \n",
       "       [[-1024, -1024, -1024, ..., -1024, -1024, -1024],\n",
       "        [-1024, -1024, -1024, ..., -1024, -1024, -1024],\n",
       "        [-1024, -1024, -1024, ..., -1024, -1024, -1024],\n",
       "        ..., \n",
       "        [-1024, -1024, -1024, ..., -1024, -1024, -1024],\n",
       "        [-1024, -1024, -1024, ..., -1024, -1024, -1024],\n",
       "        [-1024, -1024, -1024, ..., -1024, -1024, -1024]],\n",
       "\n",
       "       [[-1024, -1024, -1024, ..., -1024, -1024, -1024],\n",
       "        [-1024, -1024, -1024, ..., -1024, -1024, -1024],\n",
       "        [-1024, -1024, -1024, ..., -1024, -1024, -1024],\n",
       "        ..., \n",
       "        [-1024, -1024, -1024, ..., -1024, -1024, -1024],\n",
       "        [-1024, -1024, -1024, ..., -1024, -1024, -1024],\n",
       "        [-1024, -1024, -1024, ..., -1024, -1024, -1024]],\n",
       "\n",
       "       [[-1024, -1024, -1024, ..., -1024, -1024, -1024],\n",
       "        [-1024, -1024, -1024, ..., -1024, -1024, -1024],\n",
       "        [-1024, -1024, -1024, ..., -1024, -1024, -1024],\n",
       "        ..., \n",
       "        [-1024, -1024, -1024, ..., -1024, -1024, -1024],\n",
       "        [-1024, -1024, -1024, ..., -1024, -1024, -1024],\n",
       "        [-1024, -1024, -1024, ..., -1024, -1024, -1024]]], dtype=int16)"
      ]
     },
     "execution_count": 61,
     "metadata": {},
     "output_type": "execute_result"
    }
   ],
   "source": [
    "#read mhd format medical format files\n",
    "def read_mhd_image(file_path):\n",
    "    reader = sitk.ReadImage(file_path)\n",
    "    image = sitk.GetArrayFromImage(reader)\n",
    "    return np.array(image)\n",
    "\n",
    "read_mhd_image('./Documents/LIVER-SLIVER_Challenge/test/liver-orig002.mhd')"
   ]
  },
  {
   "cell_type": "code",
   "execution_count": 66,
   "metadata": {},
   "outputs": [],
   "source": [
    "def save_mhd_image(image, file_name):\n",
    "    reader = sitk.GetImageFromArray(image)\n",
    "    sitk.WriteImage(reader, file_name)"
   ]
  },
  {
   "cell_type": "code",
   "execution_count": 68,
   "metadata": {},
   "outputs": [],
   "source": [
    "def show_image(image):\n",
    "    img = Image.fromarray(image)\n",
    "    img.show()"
   ]
  },
  {
   "cell_type": "code",
   "execution_count": 70,
   "metadata": {},
   "outputs": [],
   "source": [
    "def save_image(image_array, save_path):\n",
    "    image = Image.fromarray(np.asarray(image_array, np.uint8))\n",
    "    image.save(save_path)"
   ]
  },
  {
   "cell_type": "code",
   "execution_count": 73,
   "metadata": {
    "collapsed": true
   },
   "outputs": [],
   "source": []
  },
  {
   "cell_type": "code",
   "execution_count": null,
   "metadata": {},
   "outputs": [],
   "source": []
  },
  {
   "cell_type": "code",
   "execution_count": null,
   "metadata": {
    "collapsed": true
   },
   "outputs": [],
   "source": []
  }
 ],
 "metadata": {
  "kernelspec": {
   "display_name": "Python 2",
   "language": "python",
   "name": "python2"
  },
  "language_info": {
   "codemirror_mode": {
    "name": "ipython",
    "version": 2
   },
   "file_extension": ".py",
   "mimetype": "text/x-python",
   "name": "python",
   "nbconvert_exporter": "python",
   "pygments_lexer": "ipython2",
   "version": "2.7.13"
  }
 },
 "nbformat": 4,
 "nbformat_minor": 2
}
