{
 "cells": [
  {
   "cell_type": "code",
   "execution_count": 11,
   "metadata": {},
   "outputs": [],
   "source": [
    "import numpy as np\n",
    "import SimpleITK as sitk\n",
    "import vtk\n",
    "import sys\n",
    "import os\n",
    "import cv2\n"
   ]
  },
  {
   "cell_type": "code",
   "execution_count": 13,
   "metadata": {
    "collapsed": true
   },
   "outputs": [],
   "source": [
    "def has_data(self, VolumeNode):\n",
    "    if not VolumeNode:\n",
    "        print \"No data provided\"\n",
    "        return False\n",
    "    if VolumeNode.GetImageData() == None:\n",
    "        print \"No image data\"\n",
    "        return False\n",
    "    return True  "
   ]
  },
  {
   "cell_type": "code",
   "execution_count": 14,
   "metadata": {
    "collapsed": true
   },
   "outputs": [],
   "source": [
    "def validate_output_volume(self, inputVolumeNode, outputVolumeNode):\n",
    "    if not inputVolumeNode:\n",
    "        print \"No input data defined, validation failed\"\n",
    "        return False\n",
    "    if not outputVolumeNode:\n",
    "        print \"No output data defined, validation failed\"\n",
    "        return False\n",
    "    if inputVolumeNode.GetID() == outputVolumeNode.GetID():\n",
    "        print \"Validation failed, both output and input volume is same\"\n",
    "        return False\n",
    "    return True"
   ]
  },
  {
   "cell_type": "code",
   "execution_count": null,
   "metadata": {
    "collapsed": true
   },
   "outputs": [],
   "source": [
    "cd "
   ]
  }
 ],
 "metadata": {
  "kernelspec": {
   "display_name": "Python 2",
   "language": "python",
   "name": "python2"
  },
  "language_info": {
   "codemirror_mode": {
    "name": "ipython",
    "version": 2
   },
   "file_extension": ".py",
   "mimetype": "text/x-python",
   "name": "python",
   "nbconvert_exporter": "python",
   "pygments_lexer": "ipython2",
   "version": "2.7.13"
  }
 },
 "nbformat": 4,
 "nbformat_minor": 2
}
