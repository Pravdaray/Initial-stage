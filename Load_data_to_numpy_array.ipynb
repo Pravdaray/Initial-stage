{
 "cells": [
  {
   "cell_type": "code",
   "execution_count": 1,
   "metadata": {
    "collapsed": true
   },
   "outputs": [],
   "source": [
    "import vtk\n",
    "from vtk.util import numpy_support\n",
    "import numpy as np"
   ]
  },
  {
   "cell_type": "code",
   "execution_count": 3,
   "metadata": {},
   "outputs": [],
   "source": [
    "image_data = \"./Documents/LIVER-SLIVER_Challenge/test/liver-orig001.mhd\"\n",
    "reader = vtk.vtkMetaImageReader()\n",
    "reader.SetFileName(image_data)\n",
    "reader.Update()"
   ]
  },
  {
   "cell_type": "code",
   "execution_count": 11,
   "metadata": {},
   "outputs": [
    {
     "name": "stdout",
     "output_type": "stream",
     "text": [
      "('ConstPixelDims: ', [512, 512, 502])\n"
     ]
    }
   ],
   "source": [
    "# Load dimensions using 'GetDataExtent'\n",
    "_extent = reader.GetDataExtent()\n",
    "ConstPixelDims = [_extent[1]-_extent[0]+1, _extent[3]-_extent[2]+1, _extent[5]-_extent[4]+1]\n",
    "print(\"ConstPixelDims: \",ConstPixelDims) "
   ]
  },
  {
   "cell_type": "code",
   "execution_count": 14,
   "metadata": {},
   "outputs": [
    {
     "name": "stdout",
     "output_type": "stream",
     "text": [
      "('pixel spacing:', '_000000000293bad0_p_void')\n"
     ]
    }
   ],
   "source": [
    "#Load pixel spacing\n",
    "ConstPixelSpacing = reader.GetPixelSpacing()\n",
    "print(\"pixel spacing:\", ConstPixelSpacing)\n",
    "pixelSpacing = (1.0, 1.0, 1.0)"
   ]
  },
  {
   "cell_type": "code",
   "execution_count": 28,
   "metadata": {},
   "outputs": [],
   "source": [
    "#Load all pixel data to appropriate sized numpy array\n",
    "#np.arange(start, stop, step)\n",
    "x = np.arange(0.0, (ConstPixelDims[0]+1)*pixelSpacing[0], pixelSpacing[0])\n",
    "y = np.arange(0.0, (ConstPixelDims[1]+1)*pixelSpacing[1], pixelSpacing[1])\n",
    "z = np.arange(0.0, (ConstPixelDims[2]+1)*pixelSpacing[2], pixelSpacing[2])\n"
   ]
  },
  {
   "cell_type": "code",
   "execution_count": 30,
   "metadata": {},
   "outputs": [
    {
     "name": "stdout",
     "output_type": "stream",
     "text": [
      "('imageData:', (vtkImageData)0x7f19ca9a3a70)\n"
     ]
    }
   ],
   "source": [
    "# Get the vtkImageData from the reader\n",
    "imageData = reader.GetOutput()\n",
    "print(\"imageData:\", imageData)"
   ]
  },
  {
   "cell_type": "code",
   "execution_count": 32,
   "metadata": {},
   "outputs": [
    {
     "name": "stdout",
     "output_type": "stream",
     "text": [
      "('pointData:', (vtkPointData)0x7f19ca9a3dd0)\n"
     ]
    }
   ],
   "source": [
    "#get the vtkPOintData from vtkImageData\n",
    "pointData = imageData.GetPointData()\n",
    "print(\"pointData:\", pointData)"
   ]
  },
  {
   "cell_type": "code",
   "execution_count": 33,
   "metadata": {
    "collapsed": true
   },
   "outputs": [],
   "source": [
    "#Ensure there is only one array that exists in the point data\n",
    "assert(pointData.GetNumberOfArrays()==1)"
   ]
  },
  {
   "cell_type": "code",
   "execution_count": 35,
   "metadata": {},
   "outputs": [
    {
     "name": "stdout",
     "output_type": "stream",
     "text": [
      "('arrayData:', (vtkShortArray)0x7f19ca83f410)\n"
     ]
    }
   ],
   "source": [
    "# Get the `vtkArray` which is needed for the `numpy_support.vtk_to_numpy` function\n",
    "arrayData = pointData.GetArray(0)\n",
    "print(\"arrayData:\", arrayData)"
   ]
  },
  {
   "cell_type": "code",
   "execution_count": 37,
   "metadata": {},
   "outputs": [
    {
     "name": "stdout",
     "output_type": "stream",
     "text": [
      "('image_data_array:', array([-1024, -1024, -1024, ..., -1024, -1024, -1024], dtype=int16))\n"
     ]
    }
   ],
   "source": [
    "#convert the vtkarray to numpy array\n",
    "image_data_array = numpy_support.vtk_to_numpy(arrayData)\n",
    "print(\"image_data_array:\", image_data_array)"
   ]
  },
  {
   "cell_type": "code",
   "execution_count": 39,
   "metadata": {},
   "outputs": [
    {
     "name": "stdout",
     "output_type": "stream",
     "text": [
      "(' Dimensions of image data :', (512, 512, 502))\n"
     ]
    }
   ],
   "source": [
    "# Reshape the numpy array to 3D using ConstPixelDims as shape\n",
    "image_data_array = image_data_array.reshape(ConstPixelDims, order='F')\n",
    "print(\" Dimensions of image data :\", image_data_array.shape)\n"
   ]
  },
  {
   "cell_type": "code",
   "execution_count": null,
   "metadata": {
    "collapsed": true
   },
   "outputs": [],
   "source": []
  }
 ],
 "metadata": {
  "kernelspec": {
   "display_name": "Python 2",
   "language": "python",
   "name": "python2"
  },
  "language_info": {
   "codemirror_mode": {
    "name": "ipython",
    "version": 2
   },
   "file_extension": ".py",
   "mimetype": "text/x-python",
   "name": "python",
   "nbconvert_exporter": "python",
   "pygments_lexer": "ipython2",
   "version": "2.7.13"
  }
 },
 "nbformat": 4,
 "nbformat_minor": 2
}
