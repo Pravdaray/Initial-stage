{
 "cells": [
  {
   "cell_type": "code",
   "execution_count": 1,
   "metadata": {
    "collapsed": true
   },
   "outputs": [],
   "source": [
    "import tensorflow as tf\n",
    "import numpy as np\n"
   ]
  },
  {
   "cell_type": "code",
   "execution_count": 2,
   "metadata": {
    "collapsed": true
   },
   "outputs": [],
   "source": [
    "feature_columns = [tf.feature_column.numeric_column(\"x\", shape=[1])]"
   ]
  },
  {
   "cell_type": "code",
   "execution_count": 14,
   "metadata": {},
   "outputs": [
    {
     "name": "stdout",
     "output_type": "stream",
     "text": [
      "INFO:tensorflow:Using default config.\n",
      "WARNING:tensorflow:Using temporary folder as model directory: /tmp/tmpOgJ_t_\n",
      "INFO:tensorflow:Using config: {'_save_checkpoints_secs': 600, '_session_config': None, '_keep_checkpoint_max': 5, '_tf_random_seed': 1, '_keep_checkpoint_every_n_hours': 10000, '_log_step_count_steps': 100, '_save_checkpoints_steps': None, '_model_dir': '/tmp/tmpOgJ_t_', '_save_summary_steps': 100}\n"
     ]
    }
   ],
   "source": [
    "estimator = tf.estimator.LinearRegressor(feature_columns = feature_columns)"
   ]
  },
  {
   "cell_type": "code",
   "execution_count": 26,
   "metadata": {
    "collapsed": true
   },
   "outputs": [],
   "source": [
    "x_train = np.array([1.,2.,3.,4.])\n",
    "y_train = np.array([0, -1., -2., -3.])\n",
    "x_eval = np.array([2., 5., 8., 1.])\n",
    "y_eval = np.array([-1.01, -4.1, -7, 0.])"
   ]
  },
  {
   "cell_type": "code",
   "execution_count": 37,
   "metadata": {},
   "outputs": [],
   "source": [
    "input_fn = tf.estimator.inputs.numpy_input_fn(\n",
    "    {\"x\": x_train}, y_train, batch_size=4, num_epochs=None, shuffle=True)\n",
    "train_input_fn = tf.estimator.inputs.numpy_input_fn({\"x\": x_train}, y_train, batch_size = 4, num_epochs = 1000, shuffle= False)\n",
    "eval_input_fn = tf.estimator.inputs.numpy_input_fn({\"x\": x_eval}, y_eval, batch_size = 4, num_epochs = 1000, shuffle= False)"
   ]
  },
  {
   "cell_type": "code",
   "execution_count": 38,
   "metadata": {},
   "outputs": [
    {
     "name": "stdout",
     "output_type": "stream",
     "text": [
      "INFO:tensorflow:Create CheckpointSaverHook.\n",
      "INFO:tensorflow:Restoring parameters from /tmp/tmpOgJ_t_/model.ckpt-4500\n",
      "INFO:tensorflow:Saving checkpoints for 4501 into /tmp/tmpOgJ_t_/model.ckpt.\n",
      "INFO:tensorflow:loss = 1.06581e-12, step = 4501\n",
      "INFO:tensorflow:global_step/sec: 2318.83\n",
      "INFO:tensorflow:loss = 9.66338e-13, step = 4601 (0.044 sec)\n",
      "INFO:tensorflow:global_step/sec: 2657.11\n",
      "INFO:tensorflow:loss = 9.66338e-13, step = 4701 (0.038 sec)\n",
      "INFO:tensorflow:global_step/sec: 2601.31\n",
      "INFO:tensorflow:loss = 1.63425e-12, step = 4801 (0.038 sec)\n",
      "INFO:tensorflow:global_step/sec: 2601.46\n",
      "INFO:tensorflow:loss = 1.37845e-12, step = 4901 (0.038 sec)\n",
      "INFO:tensorflow:global_step/sec: 2550.89\n",
      "INFO:tensorflow:loss = 3.83693e-13, step = 5001 (0.039 sec)\n",
      "INFO:tensorflow:global_step/sec: 2585.25\n",
      "INFO:tensorflow:loss = 1.63425e-12, step = 5101 (0.039 sec)\n",
      "INFO:tensorflow:global_step/sec: 2526.22\n",
      "INFO:tensorflow:loss = 1.53477e-12, step = 5201 (0.039 sec)\n",
      "INFO:tensorflow:global_step/sec: 2504.18\n",
      "INFO:tensorflow:loss = 4.9738e-13, step = 5301 (0.040 sec)\n",
      "INFO:tensorflow:global_step/sec: 2439.92\n",
      "INFO:tensorflow:loss = 1.06581e-12, step = 5401 (0.041 sec)\n",
      "INFO:tensorflow:Saving checkpoints for 5500 into /tmp/tmpOgJ_t_/model.ckpt.\n",
      "INFO:tensorflow:Loss for final step: 9.66338e-13.\n"
     ]
    },
    {
     "data": {
      "text/plain": [
       "<tensorflow.python.estimator.canned.linear.LinearRegressor at 0x7f8857863e10>"
      ]
     },
     "execution_count": 38,
     "metadata": {},
     "output_type": "execute_result"
    }
   ],
   "source": [
    "estimator.train(input_fn = input_fn,steps = 1000)"
   ]
  },
  {
   "cell_type": "code",
   "execution_count": 35,
   "metadata": {},
   "outputs": [
    {
     "name": "stdout",
     "output_type": "stream",
     "text": [
      "INFO:tensorflow:Starting evaluation at 2017-10-14-11:29:31\n",
      "INFO:tensorflow:Restoring parameters from /tmp/tmpOgJ_t_/model.ckpt-4500\n",
      "INFO:tensorflow:Finished evaluation at 2017-10-14-11:29:31\n",
      "INFO:tensorflow:Saving dict for global step 4500: average_loss = 2.66454e-13, global_step = 4500, loss = 1.06581e-12\n"
     ]
    },
    {
     "data": {
      "text/plain": [
       "{'average_loss': 2.6645353e-13, 'global_step': 4500, 'loss': 1.0658141e-12}"
      ]
     },
     "execution_count": 35,
     "metadata": {},
     "output_type": "execute_result"
    }
   ],
   "source": [
    "estimator.evaluate(input_fn = train_input_fn)"
   ]
  },
  {
   "cell_type": "code",
   "execution_count": 36,
   "metadata": {},
   "outputs": [
    {
     "name": "stdout",
     "output_type": "stream",
     "text": [
      "INFO:tensorflow:Starting evaluation at 2017-10-14-11:29:34\n",
      "INFO:tensorflow:Restoring parameters from /tmp/tmpOgJ_t_/model.ckpt-4500\n",
      "INFO:tensorflow:Finished evaluation at 2017-10-14-11:29:34\n",
      "INFO:tensorflow:Saving dict for global step 4500: average_loss = 11.0, global_step = 4500, loss = 44.0\n"
     ]
    },
    {
     "data": {
      "text/plain": [
       "{'average_loss': 10.999999, 'global_step': 4500, 'loss': 43.999996}"
      ]
     },
     "execution_count": 36,
     "metadata": {},
     "output_type": "execute_result"
    }
   ],
   "source": [
    "estimator.evaluate(input_fn = eval_input_fn)"
   ]
  },
  {
   "cell_type": "code",
   "execution_count": null,
   "metadata": {
    "collapsed": true
   },
   "outputs": [],
   "source": []
  }
 ],
 "metadata": {
  "kernelspec": {
   "display_name": "Python 2",
   "language": "python",
   "name": "python2"
  },
  "language_info": {
   "codemirror_mode": {
    "name": "ipython",
    "version": 2
   },
   "file_extension": ".py",
   "mimetype": "text/x-python",
   "name": "python",
   "nbconvert_exporter": "python",
   "pygments_lexer": "ipython2",
   "version": "2.7.13"
  }
 },
 "nbformat": 4,
 "nbformat_minor": 2
}
