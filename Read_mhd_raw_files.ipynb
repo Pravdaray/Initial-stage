{
 "cells": [
  {
   "cell_type": "code",
   "execution_count": 1,
   "metadata": {
    "collapsed": true
   },
   "outputs": [],
   "source": [
    "import numpy as np\n",
    "import SimpleITK as sitk"
   ]
  },
  {
   "cell_type": "code",
   "execution_count": 3,
   "metadata": {
    "collapsed": true
   },
   "outputs": [],
   "source": [
    "#Read image\n",
    "def read_image(filename):\n",
    "    image = sitk.ReadImage(filename)\n",
    "    #here we convert the image to numpy array\n",
    "    image_data = sitk.GetArrayFromImage(image)\n",
    "    #Get the origin of the image, will be used to convert the coordinates from world to voxel and vice versa\n",
    "    image_origin = np.array(list(reversed(image.GetOrigin())))\n",
    "    #Get the spacing of the image data along each dimension\n",
    "    image_spacing = np.array(list(reversed(image.GetSpacing())))\n",
    "    return image_data, image_origin, image_spacing"
   ]
  },
  {
   "cell_type": "code",
   "execution_count": 4,
   "metadata": {},
   "outputs": [
    {
     "data": {
      "text/plain": [
       "(array([[[-1024, -1024, -1024, ..., -1024, -1024, -1024],\n",
       "         [-1024, -1024, -1024, ..., -1024, -1024, -1024],\n",
       "         [-1024, -1024, -1024, ..., -1024, -1024, -1024],\n",
       "         ..., \n",
       "         [-1024, -1024, -1024, ..., -1024, -1024, -1024],\n",
       "         [-1024, -1024, -1024, ..., -1024, -1024, -1024],\n",
       "         [-1024, -1024, -1024, ..., -1024, -1024, -1024]],\n",
       " \n",
       "        [[-1024, -1024, -1024, ..., -1024, -1024, -1024],\n",
       "         [-1024, -1024, -1024, ..., -1024, -1024, -1024],\n",
       "         [-1024, -1024, -1024, ..., -1024, -1024, -1024],\n",
       "         ..., \n",
       "         [-1024, -1024, -1024, ..., -1024, -1024, -1024],\n",
       "         [-1024, -1024, -1024, ..., -1024, -1024, -1024],\n",
       "         [-1024, -1024, -1024, ..., -1024, -1024, -1024]],\n",
       " \n",
       "        [[-1024, -1024, -1024, ..., -1024, -1024, -1024],\n",
       "         [-1024, -1024, -1024, ..., -1024, -1024, -1024],\n",
       "         [-1024, -1024, -1024, ..., -1024, -1024, -1024],\n",
       "         ..., \n",
       "         [-1024, -1024, -1024, ..., -1024, -1024, -1024],\n",
       "         [-1024, -1024, -1024, ..., -1024, -1024, -1024],\n",
       "         [-1024, -1024, -1024, ..., -1024, -1024, -1024]],\n",
       " \n",
       "        ..., \n",
       "        [[-1024, -1024, -1024, ..., -1024, -1024, -1024],\n",
       "         [-1024, -1024, -1024, ..., -1024, -1024, -1024],\n",
       "         [-1024, -1024, -1024, ..., -1024, -1024, -1024],\n",
       "         ..., \n",
       "         [-1024, -1024, -1024, ..., -1024, -1024, -1024],\n",
       "         [-1024, -1024, -1024, ..., -1024, -1024, -1024],\n",
       "         [-1024, -1024, -1024, ..., -1024, -1024, -1024]],\n",
       " \n",
       "        [[-1024, -1024, -1024, ..., -1024, -1024, -1024],\n",
       "         [-1024, -1024, -1024, ..., -1024, -1024, -1024],\n",
       "         [-1024, -1024, -1024, ..., -1024, -1024, -1024],\n",
       "         ..., \n",
       "         [-1024, -1024, -1024, ..., -1024, -1024, -1024],\n",
       "         [-1024, -1024, -1024, ..., -1024, -1024, -1024],\n",
       "         [-1024, -1024, -1024, ..., -1024, -1024, -1024]],\n",
       " \n",
       "        [[-1024, -1024, -1024, ..., -1024, -1024, -1024],\n",
       "         [-1024, -1024, -1024, ..., -1024, -1024, -1024],\n",
       "         [-1024, -1024, -1024, ..., -1024, -1024, -1024],\n",
       "         ..., \n",
       "         [-1024, -1024, -1024, ..., -1024, -1024, -1024],\n",
       "         [-1024, -1024, -1024, ..., -1024, -1024, -1024],\n",
       "         [-1024, -1024, -1024, ..., -1024, -1024, -1024]]], dtype=int16),\n",
       " array([ 0.,  0.,  0.]),\n",
       " array([ 0.79998797,  0.86523402,  0.86523402]))"
      ]
     },
     "execution_count": 4,
     "metadata": {},
     "output_type": "execute_result"
    }
   ],
   "source": [
    "read_image('./Documents/LIVER-SLIVER_Challenge/test/liver-orig002.mhd')"
   ]
  },
  {
   "cell_type": "code",
   "execution_count": null,
   "metadata": {
    "collapsed": true
   },
   "outputs": [],
   "source": []
  }
 ],
 "metadata": {
  "kernelspec": {
   "display_name": "Python 2",
   "language": "python",
   "name": "python2"
  },
  "language_info": {
   "codemirror_mode": {
    "name": "ipython",
    "version": 2
   },
   "file_extension": ".py",
   "mimetype": "text/x-python",
   "name": "python",
   "nbconvert_exporter": "python",
   "pygments_lexer": "ipython2",
   "version": "2.7.13"
  }
 },
 "nbformat": 4,
 "nbformat_minor": 2
}
