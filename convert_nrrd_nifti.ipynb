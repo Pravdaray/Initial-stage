{
 "cells": [
  {
   "cell_type": "code",
   "execution_count": 1,
   "metadata": {},
   "outputs": [
    {
     "name": "stderr",
     "output_type": "stream",
     "text": [
      "Using Theano backend.\n",
      "WARNING (theano.configdefaults): install mkl with `conda install mkl-service`: No module named 'mkl'\n"
     ]
    }
   ],
   "source": [
    "import matplotlib.pyplot as plt\n",
    "import numpy as np\n",
    "from sklearn.metrics import confusion_matrix\n",
    "#import tensorflow as tf\n",
    "import keras\n",
    "import nibabel as nib\n",
    "from keras.models import Sequential\n",
    "from keras.layers import Conv2D, MaxPooling2D\n",
    "import vtk"
   ]
  },
  {
   "cell_type": "code",
   "execution_count": 2,
   "metadata": {},
   "outputs": [
    {
     "data": {
      "text/plain": [
       "(512, 512, 75)"
      ]
     },
     "execution_count": 2,
     "metadata": {},
     "output_type": "execute_result"
    }
   ],
   "source": [
    "#tf.__version__\n",
    "img = nib.load('/home/pravda/Desktop/volume-0.nii')\n",
    "img.shape"
   ]
  },
  {
   "cell_type": "code",
   "execution_count": null,
   "metadata": {},
   "outputs": [],
   "source": [
    "def read_image_nrrd(file_name):\n",
    "    \"Read the nrrd file using vtknNrrdReader\"\n",
    "    reader = vtk.vtkNrrdReader()\n",
    "    reader.SetFileName(file_name)\n",
    "    reader.Update()\n",
    "    info = reader.GetInformation()\n",
    "    return reader.GetOutput(),info\n",
    "\n",
    "def get_nifti(img,file_name, info):\n",
    "    \"Get the nifti file\"\n",
    "    writer = vtk.vtkNIFTIImageWriter()\n",
    "    writer.SetInputData(img)\n",
    "    writer.SetFileName(file_name)\n",
    "    writer.SetInformation(info)\n",
    "    writer.Write()\n",
    "    \n",
    "img_out, info = read_image_nrrd('/home/pravda/Desktop/MR_7797.nrrd')\n",
    "get_nifti(img_out,'/home/pravda/Desktop/MR_7797.nii', info)\n"
   ]
  },
  {
   "cell_type": "code",
   "execution_count": null,
   "metadata": {},
   "outputs": [],
   "source": []
  }
 ],
 "metadata": {
  "kernelspec": {
   "display_name": "Python 3",
   "language": "python",
   "name": "python3"
  },
  "language_info": {
   "codemirror_mode": {
    "name": "ipython",
    "version": 3
   },
   "file_extension": ".py",
   "mimetype": "text/x-python",
   "name": "python",
   "nbconvert_exporter": "python",
   "pygments_lexer": "ipython3",
   "version": "3.6.4"
  }
 },
 "nbformat": 4,
 "nbformat_minor": 2
}
